{
 "cells": [
  {
   "cell_type": "markdown",
   "metadata": {},
   "source": [
    "# [作業目標]\n",
    "- 利用範例的創建方式, 創建一組資料, 並練習如何取出最大值"
   ]
  },
  {
   "cell_type": "markdown",
   "metadata": {},
   "source": [
    "# [作業重點]\n",
    "- 練習創立 DataFrame (In[2])\n",
    "- 如何取出口數最多的國家 (In[3], Out[3])"
   ]
  },
  {
   "cell_type": "markdown",
   "metadata": {},
   "source": [
    "## 練習時間\n",
    "在小量的資料上，我們用眼睛就可以看得出來程式碼是否有跑出我們理想中的結果\n",
    "\n",
    "請嘗試想像一個你需要的資料結構 (裡面的值可以是隨機的)，然後用上述的方法把它變成 pandas DataFrame\n",
    "\n",
    "#### Ex: 想像一個 dataframe 有兩個欄位，一個是國家，一個是人口，求人口數最多的國家\n",
    "\n",
    "### Hints: [隨機產生數值](https://blog.csdn.net/christianashannon/article/details/78867204)"
   ]
  },
  {
   "cell_type": "code",
   "execution_count": 14,
   "metadata": {},
   "outputs": [],
   "source": [
    "import pandas as pd\n",
    "import numpy as np"
   ]
  },
  {
   "cell_type": "code",
   "execution_count": 15,
   "metadata": {},
   "outputs": [
    {
     "name": "stdout",
     "output_type": "stream",
     "text": [
      "           國家          人口\n",
      "0    country1  1944487636\n",
      "1    country2  6268208454\n",
      "2    country3   853554659\n",
      "3    country4  2175298131\n",
      "4    country5  9658283812\n",
      "5    country6  5913614954\n",
      "6    country7  5525950698\n",
      "7    country8  7827858962\n",
      "8    country9  6498904408\n",
      "9   country10  3130719791\n",
      "10  country11  9400132501\n",
      "11  country12  6741659085\n",
      "12  country13  9142934882\n",
      "13  country14  1621648741\n",
      "14  country15  4747489808\n",
      "15  country16  6997953591\n",
      "16  country17  1628603972\n",
      "17  country18  3639129130\n",
      "18  country19  2251271342\n",
      "19  country20  1289300262\n",
      "國家      country5\n",
      "人口    9658283812\n",
      "Name: 4, dtype: object\n"
     ]
    }
   ],
   "source": [
    "#產生亂數代表20個國家的人口數\n",
    "peoplenum = np.random.randint(1000000, 10000000000, size=20) \n",
    "cities = ['country' + str(i + 1) for i in range(20)]\n",
    "\n",
    "data = {'國家': cities,\n",
    "        '人口': peoplenum}\n",
    "data = pd.DataFrame(data)\n",
    "\n",
    "print(data)\n",
    "\n",
    "print(data.loc[data['人口'].idxmax()])"
   ]
  },
  {
   "cell_type": "code",
   "execution_count": null,
   "metadata": {
    "collapsed": true
   },
   "outputs": [],
   "source": []
  }
 ],
 "metadata": {
  "kernelspec": {
   "display_name": "Python 3",
   "language": "python",
   "name": "python3"
  },
  "language_info": {
   "codemirror_mode": {
    "name": "ipython",
    "version": 3
   },
   "file_extension": ".py",
   "mimetype": "text/x-python",
   "name": "python",
   "nbconvert_exporter": "python",
   "pygments_lexer": "ipython3",
   "version": "3.7.3"
  }
 },
 "nbformat": 4,
 "nbformat_minor": 2
}
