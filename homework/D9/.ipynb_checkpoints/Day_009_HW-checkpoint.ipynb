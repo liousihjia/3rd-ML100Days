{
 "cells": [
  {
   "cell_type": "markdown",
   "metadata": {},
   "source": [
    "# 檢視與處理 Outliers\n",
    "### 為何會有 outliers, 常見的 outlier 原因\n",
    "* 未知值，隨意填補 (約定俗成的代入)，如年齡常見 0,999\n",
    "* 可能的錯誤紀錄/手誤/系統性錯誤，如某本書在某筆訂單的銷售量 = 1000 本"
   ]
  },
  {
   "cell_type": "markdown",
   "metadata": {},
   "source": [
    "# [作業目標]\n",
    "- 依照下列提示與引導, 以幾種不同的方式, 檢視可能的離群值"
   ]
  },
  {
   "cell_type": "markdown",
   "metadata": {},
   "source": [
    "# [作業重點]\n",
    "- 從原始資料篩選可能的欄位, 看看那些欄位可能有離群值 (In[3], Out[3])\n",
    "- 繪製目標值累積密度函數(ECDF)的圖形, 和常態分布的累積密度函數對比, 以確認是否有離群值的情形 (In[6], Out[6], In[7], Out[7])"
   ]
  },
  {
   "cell_type": "code",
   "execution_count": 10,
   "metadata": {},
   "outputs": [],
   "source": [
    "# Import 需要的套件\n",
    "import os\n",
    "import numpy as np\n",
    "import pandas as pd\n",
    "import matplotlib.pyplot as plt\n",
    "\n",
    "%matplotlib inline\n",
    "\n",
    "# 設定 data_path\n",
    "dir_data = '../../Part01'"
   ]
  },
  {
   "cell_type": "code",
   "execution_count": 11,
   "metadata": {},
   "outputs": [
    {
     "name": "stdout",
     "output_type": "stream",
     "text": [
      "Path of read in data: ../../Part01\\application_train.csv\n"
     ]
    },
    {
     "data": {
      "text/html": [
       "<div>\n",
       "<style scoped>\n",
       "    .dataframe tbody tr th:only-of-type {\n",
       "        vertical-align: middle;\n",
       "    }\n",
       "\n",
       "    .dataframe tbody tr th {\n",
       "        vertical-align: top;\n",
       "    }\n",
       "\n",
       "    .dataframe thead th {\n",
       "        text-align: right;\n",
       "    }\n",
       "</style>\n",
       "<table border=\"1\" class=\"dataframe\">\n",
       "  <thead>\n",
       "    <tr style=\"text-align: right;\">\n",
       "      <th></th>\n",
       "      <th>SK_ID_CURR</th>\n",
       "      <th>TARGET</th>\n",
       "      <th>NAME_CONTRACT_TYPE</th>\n",
       "      <th>CODE_GENDER</th>\n",
       "      <th>FLAG_OWN_CAR</th>\n",
       "      <th>FLAG_OWN_REALTY</th>\n",
       "      <th>CNT_CHILDREN</th>\n",
       "      <th>AMT_INCOME_TOTAL</th>\n",
       "      <th>AMT_CREDIT</th>\n",
       "      <th>AMT_ANNUITY</th>\n",
       "      <th>...</th>\n",
       "      <th>FLAG_DOCUMENT_18</th>\n",
       "      <th>FLAG_DOCUMENT_19</th>\n",
       "      <th>FLAG_DOCUMENT_20</th>\n",
       "      <th>FLAG_DOCUMENT_21</th>\n",
       "      <th>AMT_REQ_CREDIT_BUREAU_HOUR</th>\n",
       "      <th>AMT_REQ_CREDIT_BUREAU_DAY</th>\n",
       "      <th>AMT_REQ_CREDIT_BUREAU_WEEK</th>\n",
       "      <th>AMT_REQ_CREDIT_BUREAU_MON</th>\n",
       "      <th>AMT_REQ_CREDIT_BUREAU_QRT</th>\n",
       "      <th>AMT_REQ_CREDIT_BUREAU_YEAR</th>\n",
       "    </tr>\n",
       "  </thead>\n",
       "  <tbody>\n",
       "    <tr>\n",
       "      <td>0</td>\n",
       "      <td>100002</td>\n",
       "      <td>1</td>\n",
       "      <td>Cash loans</td>\n",
       "      <td>M</td>\n",
       "      <td>N</td>\n",
       "      <td>Y</td>\n",
       "      <td>0</td>\n",
       "      <td>202500.0</td>\n",
       "      <td>406597.5</td>\n",
       "      <td>24700.5</td>\n",
       "      <td>...</td>\n",
       "      <td>0</td>\n",
       "      <td>0</td>\n",
       "      <td>0</td>\n",
       "      <td>0</td>\n",
       "      <td>0.0</td>\n",
       "      <td>0.0</td>\n",
       "      <td>0.0</td>\n",
       "      <td>0.0</td>\n",
       "      <td>0.0</td>\n",
       "      <td>1.0</td>\n",
       "    </tr>\n",
       "    <tr>\n",
       "      <td>1</td>\n",
       "      <td>100003</td>\n",
       "      <td>0</td>\n",
       "      <td>Cash loans</td>\n",
       "      <td>F</td>\n",
       "      <td>N</td>\n",
       "      <td>N</td>\n",
       "      <td>0</td>\n",
       "      <td>270000.0</td>\n",
       "      <td>1293502.5</td>\n",
       "      <td>35698.5</td>\n",
       "      <td>...</td>\n",
       "      <td>0</td>\n",
       "      <td>0</td>\n",
       "      <td>0</td>\n",
       "      <td>0</td>\n",
       "      <td>0.0</td>\n",
       "      <td>0.0</td>\n",
       "      <td>0.0</td>\n",
       "      <td>0.0</td>\n",
       "      <td>0.0</td>\n",
       "      <td>0.0</td>\n",
       "    </tr>\n",
       "    <tr>\n",
       "      <td>2</td>\n",
       "      <td>100004</td>\n",
       "      <td>0</td>\n",
       "      <td>Revolving loans</td>\n",
       "      <td>M</td>\n",
       "      <td>Y</td>\n",
       "      <td>Y</td>\n",
       "      <td>0</td>\n",
       "      <td>67500.0</td>\n",
       "      <td>135000.0</td>\n",
       "      <td>6750.0</td>\n",
       "      <td>...</td>\n",
       "      <td>0</td>\n",
       "      <td>0</td>\n",
       "      <td>0</td>\n",
       "      <td>0</td>\n",
       "      <td>0.0</td>\n",
       "      <td>0.0</td>\n",
       "      <td>0.0</td>\n",
       "      <td>0.0</td>\n",
       "      <td>0.0</td>\n",
       "      <td>0.0</td>\n",
       "    </tr>\n",
       "    <tr>\n",
       "      <td>3</td>\n",
       "      <td>100006</td>\n",
       "      <td>0</td>\n",
       "      <td>Cash loans</td>\n",
       "      <td>F</td>\n",
       "      <td>N</td>\n",
       "      <td>Y</td>\n",
       "      <td>0</td>\n",
       "      <td>135000.0</td>\n",
       "      <td>312682.5</td>\n",
       "      <td>29686.5</td>\n",
       "      <td>...</td>\n",
       "      <td>0</td>\n",
       "      <td>0</td>\n",
       "      <td>0</td>\n",
       "      <td>0</td>\n",
       "      <td>NaN</td>\n",
       "      <td>NaN</td>\n",
       "      <td>NaN</td>\n",
       "      <td>NaN</td>\n",
       "      <td>NaN</td>\n",
       "      <td>NaN</td>\n",
       "    </tr>\n",
       "    <tr>\n",
       "      <td>4</td>\n",
       "      <td>100007</td>\n",
       "      <td>0</td>\n",
       "      <td>Cash loans</td>\n",
       "      <td>M</td>\n",
       "      <td>N</td>\n",
       "      <td>Y</td>\n",
       "      <td>0</td>\n",
       "      <td>121500.0</td>\n",
       "      <td>513000.0</td>\n",
       "      <td>21865.5</td>\n",
       "      <td>...</td>\n",
       "      <td>0</td>\n",
       "      <td>0</td>\n",
       "      <td>0</td>\n",
       "      <td>0</td>\n",
       "      <td>0.0</td>\n",
       "      <td>0.0</td>\n",
       "      <td>0.0</td>\n",
       "      <td>0.0</td>\n",
       "      <td>0.0</td>\n",
       "      <td>0.0</td>\n",
       "    </tr>\n",
       "  </tbody>\n",
       "</table>\n",
       "<p>5 rows × 122 columns</p>\n",
       "</div>"
      ],
      "text/plain": [
       "   SK_ID_CURR  TARGET NAME_CONTRACT_TYPE CODE_GENDER FLAG_OWN_CAR  \\\n",
       "0      100002       1         Cash loans           M            N   \n",
       "1      100003       0         Cash loans           F            N   \n",
       "2      100004       0    Revolving loans           M            Y   \n",
       "3      100006       0         Cash loans           F            N   \n",
       "4      100007       0         Cash loans           M            N   \n",
       "\n",
       "  FLAG_OWN_REALTY  CNT_CHILDREN  AMT_INCOME_TOTAL  AMT_CREDIT  AMT_ANNUITY  \\\n",
       "0               Y             0          202500.0    406597.5      24700.5   \n",
       "1               N             0          270000.0   1293502.5      35698.5   \n",
       "2               Y             0           67500.0    135000.0       6750.0   \n",
       "3               Y             0          135000.0    312682.5      29686.5   \n",
       "4               Y             0          121500.0    513000.0      21865.5   \n",
       "\n",
       "   ...  FLAG_DOCUMENT_18 FLAG_DOCUMENT_19 FLAG_DOCUMENT_20 FLAG_DOCUMENT_21  \\\n",
       "0  ...                 0                0                0                0   \n",
       "1  ...                 0                0                0                0   \n",
       "2  ...                 0                0                0                0   \n",
       "3  ...                 0                0                0                0   \n",
       "4  ...                 0                0                0                0   \n",
       "\n",
       "  AMT_REQ_CREDIT_BUREAU_HOUR AMT_REQ_CREDIT_BUREAU_DAY  \\\n",
       "0                        0.0                       0.0   \n",
       "1                        0.0                       0.0   \n",
       "2                        0.0                       0.0   \n",
       "3                        NaN                       NaN   \n",
       "4                        0.0                       0.0   \n",
       "\n",
       "   AMT_REQ_CREDIT_BUREAU_WEEK  AMT_REQ_CREDIT_BUREAU_MON  \\\n",
       "0                         0.0                        0.0   \n",
       "1                         0.0                        0.0   \n",
       "2                         0.0                        0.0   \n",
       "3                         NaN                        NaN   \n",
       "4                         0.0                        0.0   \n",
       "\n",
       "   AMT_REQ_CREDIT_BUREAU_QRT  AMT_REQ_CREDIT_BUREAU_YEAR  \n",
       "0                        0.0                         1.0  \n",
       "1                        0.0                         0.0  \n",
       "2                        0.0                         0.0  \n",
       "3                        NaN                         NaN  \n",
       "4                        0.0                         0.0  \n",
       "\n",
       "[5 rows x 122 columns]"
      ]
     },
     "execution_count": 11,
     "metadata": {},
     "output_type": "execute_result"
    }
   ],
   "source": [
    "f_app = os.path.join(dir_data, 'application_train.csv')\n",
    "print('Path of read in data: %s' % (f_app))\n",
    "app_train = pd.read_csv(f_app)\n",
    "app_train.head()"
   ]
  },
  {
   "cell_type": "markdown",
   "metadata": {},
   "source": [
    "## 請參考 HomeCredit_columns_description.csv 的欄位說明，觀察並列出三個你覺得可能有 outlier 的欄位並解釋可能的原因"
   ]
  },
  {
   "cell_type": "code",
   "execution_count": 12,
   "metadata": {
    "scrolled": true
   },
   "outputs": [
    {
     "name": "stdout",
     "output_type": "stream",
     "text": [
      "41\n",
      "Numbers of remain columns 8\n",
      "65\n",
      "Numbers of remain columns 65\n"
     ]
    },
    {
     "data": {
      "image/png": "[encoded data removed]",
      "text/plain": [
       "<Figure size 432x288 with 1 Axes>"
      ]
     },
     "metadata": {
      "needs_background": "light"
     },
     "output_type": "display_data"
    },
    {
     "data": {
      "image/png": "[encoded data removed]",
      "text/plain": [
       "<Figure size 432x288 with 1 Axes>"
      ]
     },
     "metadata": {
      "needs_background": "light"
     },
     "output_type": "display_data"
    },
    {
     "data": {
      "image/png": "[encoded data removed]",
      "text/plain": [
       "<Figure size 432x288 with 1 Axes>"
      ]
     },
     "metadata": {
      "needs_background": "light"
     },
     "output_type": "display_data"
    }
   ],
   "source": [
    "# 先篩選數值型的欄位\n",
    "\"\"\"\n",
    "YOUR CODE HERE, fill correct data types (for example str, float, int, ...)\n",
    "\"\"\"\n",
    "dtypes = ['int64', 'float64']\n",
    "\n",
    "for dtype_select in dtypes:\n",
    "    numeric_columns = list(app_train.columns[list(app_train.dtypes==dtype_select)])#.isin(dtype_select))])\n",
    "    print(len(numeric_columns))\n",
    "\n",
    "    # 再把只有 2 值 (通常是 0,1) 的欄位去掉\n",
    "    MultiList = list(app_train[numeric_columns].apply(lambda x:len(x.unique())!=2 ))\n",
    "    numeric_columns = list(app_train[numeric_columns].columns[MultiList])\n",
    "    print(\"Numbers of remain columns\",  len(numeric_columns))\n",
    "\n",
    "    # 檢視這些欄位的數值範圍\n",
    "    for col in numeric_columns:\n",
    "        if col  not in ['AMT_INCOME_TOTAL','REGION_POPULATION_RELATIVE','OBS_60_CNT_SOCIAL_CIRCLE']: continue\n",
    "        #Your CODE HERE, make the box plot\n",
    "        app_train[col].plot.hist(title = col+\" - \"+dtype_select, bins=20)\n",
    "        plt.show()"
   ]
  },
  {
   "cell_type": "code",
   "execution_count": 13,
   "metadata": {},
   "outputs": [],
   "source": [
    "# 從上面的圖檢查的結果，至少這三個欄位好像有點可疑\n",
    "\n",
    "# AMT_INCOME_TOTAL\n",
    "# REGION_POPULATION_RELATIVE\n",
    "# OBS_60_CNT_SOCIAL_CIRCLE"
   ]
  },
  {
   "cell_type": "markdown",
   "metadata": {},
   "source": [
    "### Hints: Emprical Cumulative Density Plot, [ECDF](https://zh.wikipedia.org/wiki/%E7%BB%8F%E9%AA%8C%E5%88%86%E5%B8%83%E5%87%BD%E6%95%B0), [ECDF with Python](https://stackoverflow.com/questions/14006520/ecdf-in-python-without-step-function)"
   ]
  },
  {
   "cell_type": "code",
   "execution_count": 14,
   "metadata": {},
   "outputs": [
    {
     "name": "stdout",
     "output_type": "stream",
     "text": [
      "count    3.075110e+05\n",
      "mean     1.687979e+05\n",
      "std      2.371231e+05\n",
      "min      2.565000e+04\n",
      "25%      1.125000e+05\n",
      "50%      1.471500e+05\n",
      "75%      2.025000e+05\n",
      "max      1.170000e+08\n",
      "Name: AMT_INCOME_TOTAL, dtype: float64\n"
     ]
    },
    {
     "data": {
      "image/png": "[encoded data removed]",
      "text/plain": [
       "<Figure size 432x288 with 1 Axes>"
      ]
     },
     "metadata": {
      "needs_background": "light"
     },
     "output_type": "display_data"
    },
    {
     "data": {
      "image/png": "[encoded data removed]",
      "text/plain": [
       "<Figure size 432x288 with 1 Axes>"
      ]
     },
     "metadata": {
      "needs_background": "light"
     },
     "output_type": "display_data"
    },
    {
     "data": {
      "text/plain": [
       "<matplotlib.axes._subplots.AxesSubplot at 0x23e0d55b988>"
      ]
     },
     "execution_count": 14,
     "metadata": {},
     "output_type": "execute_result"
    },
    {
     "data": {
      "image/png": "[encoded data removed]",
      "text/plain": [
       "<Figure size 432x288 with 1 Axes>"
      ]
     },
     "metadata": {
      "needs_background": "light"
     },
     "output_type": "display_data"
    }
   ],
   "source": [
    "# 最大值離平均與中位數很遠\n",
    "print(app_train['AMT_INCOME_TOTAL'].describe())\n",
    "\n",
    "# 繪製 Empirical Cumulative Density Plot (ECDF)\n",
    "\"\"\"\n",
    "YOUR CODE HERE\n",
    "\"\"\"\n",
    "def ecdf(data):\n",
    "    x = np.sort(data)\n",
    "    y = np.arange(1,len(x)+1) / len(x)\n",
    "    return x,y\n",
    "\n",
    "x,y = ecdf(app_train['AMT_INCOME_TOTAL'])\n",
    "plt.plot(x, y)\n",
    "plt.xlabel('Value')\n",
    "plt.ylabel('ECDF')\n",
    "plt.xlim([min(x), max(x) * 1.05]) # 限制顯示圖片的範圍\n",
    "plt.ylim([-0.05,1.05]) # 限制顯示圖片的範圍\n",
    "\n",
    "plt.show()\n",
    "\n",
    "# 改變 y 軸的 Scale, 讓我們可以正常檢視 ECDF\n",
    "plt.plot(np.log(list(x)), y)\n",
    "plt.xlabel('Value (log-scale)')\n",
    "plt.ylabel('ECDF')\n",
    "\n",
    "plt.ylim([-0.05,1.05]) # 限制顯示圖片的範圍\n",
    "\n",
    "plt.show()\n",
    "\n",
    "#Clean\n",
    "data = app_train['AMT_INCOME_TOTAL']\n",
    "Grab = np.all([data >= data.mean()-data.std()*3, data <= data.mean()+data.std()*3],axis=0)\n",
    "data = app_train[Grab]['AMT_INCOME_TOTAL']\n",
    "data.plot.hist(title='Clean  AMT_INCOME_TOTAL')"
   ]
  },
  {
   "cell_type": "markdown",
   "metadata": {},
   "source": [
    "## 補充：Normal dist 的 ECDF\n",
    "![ecdf_normal](https://au.mathworks.com/help/examples/stats/win64/PlotEmpiricalCdfAndCompareWithSamplingDistributionExample_01.png)"
   ]
  },
  {
   "cell_type": "code",
   "execution_count": 15,
   "metadata": {},
   "outputs": [
    {
     "name": "stdout",
     "output_type": "stream",
     "text": [
      "count    307511.000000\n",
      "mean          0.020868\n",
      "std           0.013831\n",
      "min           0.000290\n",
      "25%           0.010006\n",
      "50%           0.018850\n",
      "75%           0.028663\n",
      "max           0.072508\n",
      "Name: REGION_POPULATION_RELATIVE, dtype: float64\n"
     ]
    },
    {
     "data": {
      "image/png": "[encoded data removed]",
      "text/plain": [
       "<Figure size 432x288 with 1 Axes>"
      ]
     },
     "metadata": {
      "needs_background": "light"
     },
     "output_type": "display_data"
    },
    {
     "data": {
      "image/png": "[encoded data removed]",
      "text/plain": [
       "<Figure size 432x288 with 1 Axes>"
      ]
     },
     "metadata": {
      "needs_background": "light"
     },
     "output_type": "display_data"
    },
    {
     "data": {
      "text/plain": [
       "0.035792    16408\n",
       "0.046220    13442\n",
       "0.030755    12163\n",
       "0.025164    11950\n",
       "0.026392    11601\n",
       "            ...  \n",
       "0.001417      467\n",
       "0.001333      235\n",
       "0.000533       39\n",
       "0.000938       28\n",
       "0.000290        2\n",
       "Name: REGION_POPULATION_RELATIVE, Length: 81, dtype: int64"
      ]
     },
     "execution_count": 15,
     "metadata": {},
     "output_type": "execute_result"
    }
   ],
   "source": [
    "# 最大值落在分布之外\n",
    "print(app_train['REGION_POPULATION_RELATIVE'].describe())\n",
    "\n",
    "# 繪製 Empirical Cumulative Density Plot (ECDF)\n",
    "\"\"\"\n",
    "Your Code Here\n",
    "\"\"\"\n",
    "x,y = ecdf(app_train['REGION_POPULATION_RELATIVE'])\n",
    "plt.plot(x, y)\n",
    "\n",
    "#plt.plot(list(cdf.index), cdf/cdf.max())\n",
    "plt.xlabel('Value')\n",
    "plt.ylabel('ECDF')\n",
    "plt.ylim([-0.05,1.05]) # 限制顯示圖片的範圍\n",
    "plt.show()\n",
    "\n",
    "app_train['REGION_POPULATION_RELATIVE'].hist()\n",
    "plt.show()\n",
    "\n",
    "app_train['REGION_POPULATION_RELATIVE'].value_counts()\n",
    "\n",
    "# 就以這個欄位來說，雖然有資料掉在分布以外，也不算異常，僅代表這間公司在稍微熱鬧的地區有的據點較少，\n",
    "# 導致 region population relative 在少的部分較為密集，但在大的部分較為疏漏"
   ]
  },
  {
   "cell_type": "code",
   "execution_count": null,
   "metadata": {
    "collapsed": true,
    "scrolled": true
   },
   "outputs": [],
   "source": [
    "# 最大值落在分布之外\n",
    "print(app_train['OBS_60_CNT_SOCIAL_CIRCLE'].describe())\n",
    "\n",
    "# 繪製 Empirical Cumulative Density Plot (ECDF)\n",
    "\"\"\"\n",
    "Your Code Here\n",
    "\"\"\"\n",
    "x,y = ecdf(app_train['OBS_60_CNT_SOCIAL_CIRCLE'])\n",
    "plt.plot(x, y)\n",
    "\n",
    "#plt.plot(list(cdf.index), cdf/cdf.max())\n",
    "plt.xlabel('Value')\n",
    "plt.ylabel('ECDF')\n",
    "plt.xlim([min(x) * 0.95, max(x) * 1.05])\n",
    "plt.ylim([-0.05,1.05]) # 限制顯示圖片的範圍\n",
    "plt.show()\n",
    "\n",
    "app_train['OBS_60_CNT_SOCIAL_CIRCLE'].hist()\n",
    "plt.show()\n",
    "print(app_train['OBS_60_CNT_SOCIAL_CIRCLE'].value_counts().sort_index(ascending = False))"
   ]
  },
  {
   "cell_type": "markdown",
   "metadata": {},
   "source": [
    "## 注意：當 histogram 畫出上面這種圖 (只出現一條，但是 x 軸延伸很長導致右邊有一大片空白時，代表右邊有值但是數量稀少。這時可以考慮用 value_counts 去找到這些數值"
   ]
  },
  {
   "cell_type": "code",
   "execution_count": null,
   "metadata": {
    "collapsed": true
   },
   "outputs": [],
   "source": [
    "# 把一些極端值暫時去掉，在繪製一次 Histogram\n",
    "# 選擇 OBS_60_CNT_SOCIAL_CIRCLE 小於 20 的資料點繪製\n",
    "\"\"\"\n",
    "Your Code Here\n",
    "\"\"\"\n",
    "\n",
    "data = app_train[app_train['OBS_60_CNT_SOCIAL_CIRCLE']<20]['OBS_60_CNT_SOCIAL_CIRCLE']\n",
    "\n",
    "\n",
    "x,y = ecdf(data)\n",
    "plt.plot(x, y)\n",
    "\n",
    "#plt.plot(list(cdf.index), cdf/cdf.max())\n",
    "plt.xlabel('Value')\n",
    "plt.ylabel('ECDF')\n",
    "plt.ylim([-0.05,1.05]) # 限制顯示圖片的範圍\n",
    "plt.show()\n",
    "\n",
    "data.hist()\n",
    "plt.show()\n",
    "\n",
    "data.value_counts()"
   ]
  }
 ],
 "metadata": {
  "anaconda-cloud": {},
  "kernelspec": {
   "display_name": "Python 3",
   "language": "python",
   "name": "python3"
  },
  "language_info": {
   "codemirror_mode": {
    "name": "ipython",
    "version": 3
   },
   "file_extension": ".py",
   "mimetype": "text/x-python",
   "name": "python",
   "nbconvert_exporter": "python",
   "pygments_lexer": "ipython3",
   "version": "3.7.4"
  }
 },
 "nbformat": 4,
 "nbformat_minor": 1
}
